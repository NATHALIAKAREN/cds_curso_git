{
 "cells": [
  {
   "cell_type": "code",
   "execution_count": null,
   "metadata": {},
   "outputs": [],
   "source": [
<<<<<<< HEAD
    "print(\"main - linha 1\")"
=======
    "print(\"dev - celula 1\")"
>>>>>>> dev
   ]
  },
  {
   "cell_type": "code",
   "execution_count": null,
   "metadata": {},
   "outputs": [],
   "source": [
<<<<<<< HEAD
    "print(\"main - linha 2\")"
=======
    "print(\"dev - celula 2\")"
>>>>>>> dev
   ]
  },
  {
   "cell_type": "code",
   "execution_count": null,
   "metadata": {},
   "outputs": [],
   "source": [
<<<<<<< HEAD
    "print(\"main - linha 3\")"
=======
    "print(\"dev - celula 3\")"
>>>>>>> dev
   ]
  }
 ],
 "metadata": {
  "language_info": {
   "name": "python"
  }
 },
 "nbformat": 4,
 "nbformat_minor": 2
}
